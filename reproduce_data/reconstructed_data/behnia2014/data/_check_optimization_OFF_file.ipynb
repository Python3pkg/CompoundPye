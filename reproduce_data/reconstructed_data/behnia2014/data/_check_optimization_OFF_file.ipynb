{
 "metadata": {
  "name": ""
 },
 "nbformat": 3,
 "nbformat_minor": 0,
 "worksheets": [
  {
   "cells": [
    {
     "cell_type": "code",
     "collapsed": false,
     "input": [
      "import reader_OFF as r\n",
      "import matplotlib.pyplot as plt\n",
      "import matplotlib.gridspec as gridspec\n",
      "%matplotlib qt"
     ],
     "language": "python",
     "metadata": {},
     "outputs": [],
     "prompt_number": 2
    },
    {
     "cell_type": "code",
     "collapsed": false,
     "input": [],
     "language": "python",
     "metadata": {},
     "outputs": []
    },
    {
     "cell_type": "code",
     "collapsed": false,
     "input": [
      "titles=['200ms','500ms','1s','steps']\n",
      "\n",
      "for i in range(0,4):\n",
      "    gs=gridspec.GridSpec(3,1)\n",
      "    f=plt.figure()\n",
      "    \n",
      "    ax_Tm1=f.add_subplot(gs[0,0])\n",
      "    ax_Tm2=f.add_subplot(gs[1,0])\n",
      "    ax_s=f.add_subplot(gs[2,0])\n",
      "    f.subplots_adjust(hspace=0.01,left=0.01,right=0.99)\n",
      "    \n",
      "    ax=[ax_Tm1,ax_Tm2,ax_s]\n",
      "    array_lists=[r.Tm1_responses,r.Tm2_responses,r.stims]\n",
      "    \n",
      "    for j in range(0,3):\n",
      "        ax[j].plot(array_lists[j][i][:,0],array_lists[j][i][:,1])\n",
      "    \n",
      "    ax[0].set_title(titles[i])\n",
      "    \n",
      "    f.show()"
     ],
     "language": "python",
     "metadata": {},
     "outputs": [],
     "prompt_number": 4
    },
    {
     "cell_type": "code",
     "collapsed": false,
     "input": [],
     "language": "python",
     "metadata": {},
     "outputs": []
    }
   ],
   "metadata": {}
  }
 ]
}